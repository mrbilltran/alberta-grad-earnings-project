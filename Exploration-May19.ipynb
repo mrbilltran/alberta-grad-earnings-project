{
 "cells": [
  {
   "cell_type": "code",
   "execution_count": 1,
   "metadata": {},
   "outputs": [],
   "source": [
    "import numpy as np \n",
    "import pandas as pd \n",
    "pd.plotting.register_matplotlib_converters()\n",
    "import matplotlib.pyplot as plt\n",
    "%matplotlib inline\n",
    "import seaborn as sns"
   ]
  },
  {
   "cell_type": "code",
   "execution_count": 2,
   "metadata": {},
   "outputs": [],
   "source": [
    "dfs = pd.read_excel(\"alberta-post-secondary-graduate-earnings-by-field-of-study.xlsx\", sheet_name=None)"
   ]
  },
  {
   "cell_type": "code",
   "execution_count": 3,
   "metadata": {},
   "outputs": [
    {
     "data": {
      "text/plain": [
       "dict_keys(['Information', 'Dictionary', 'One Year After Graduation', 'Two Years After Graduation', 'Five Years After Graduation', 'Ten Years After Graduation'])"
      ]
     },
     "execution_count": 3,
     "metadata": {},
     "output_type": "execute_result"
    }
   ],
   "source": [
    "dfs.keys()"
   ]
  },
  {
   "cell_type": "code",
   "execution_count": 4,
   "metadata": {},
   "outputs": [],
   "source": [
    "TenYears = dfs['Ten Years After Graduation']\n",
    "OneYear = dfs['One Year After Graduation']"
   ]
  },
  {
   "cell_type": "code",
   "execution_count": 5,
   "metadata": {},
   "outputs": [],
   "source": [
    "TenYears = dfs['Ten Years After Graduation'].dropna()\n",
    "OneYear = dfs['One Year After Graduation'].dropna()"
   ]
  },
  {
   "cell_type": "code",
   "execution_count": 6,
   "metadata": {},
   "outputs": [
    {
     "data": {
      "text/plain": [
       "'\\nData exploration ideas\\ntake 1, 2, 5 years after graduation and predicting for 10 years?\\n\\n'"
      ]
     },
     "execution_count": 6,
     "metadata": {},
     "output_type": "execute_result"
    }
   ],
   "source": [
    "\"\"\"\n",
    "Data exploration ideas\n",
    "take 1, 2, 5 years after graduation and predicting for 10 years?\n",
    "\n",
    "\"\"\""
   ]
  },
  {
   "cell_type": "code",
   "execution_count": 7,
   "metadata": {
    "scrolled": true
   },
   "outputs": [
    {
     "name": "stderr",
     "output_type": "stream",
     "text": [
      "/Users/davescott/anaconda3/lib/python3.7/site-packages/ipykernel_launcher.py:1: SettingWithCopyWarning: \n",
      "A value is trying to be set on a copy of a slice from a DataFrame.\n",
      "Try using .loc[row_indexer,col_indexer] = value instead\n",
      "\n",
      "See the caveats in the documentation: https://pandas.pydata.org/pandas-docs/stable/user_guide/indexing.html#returning-a-view-versus-a-copy\n",
      "  \"\"\"Entry point for launching an IPython kernel.\n",
      "/Users/davescott/anaconda3/lib/python3.7/site-packages/ipykernel_launcher.py:2: SettingWithCopyWarning: \n",
      "A value is trying to be set on a copy of a slice from a DataFrame.\n",
      "Try using .loc[row_indexer,col_indexer] = value instead\n",
      "\n",
      "See the caveats in the documentation: https://pandas.pydata.org/pandas-docs/stable/user_guide/indexing.html#returning-a-view-versus-a-copy\n",
      "  \n"
     ]
    }
   ],
   "source": [
    "OneYear['Field of Study (CIP code)'] = OneYear['Field of Study (CIP code)'].str.replace('\\d+', '')\n",
    "OneYear['Field of Study (CIP code)'] = OneYear['Field of Study (CIP code)'].str.replace('.', '')\n",
    "TenYears['Field of Study (CIP code)'] = OneYear['Field of Study (CIP code)'].str.replace('\\d+', '')\n",
    "TenYears['Field of Study (CIP code)'] = TenYears['Field of Study (CIP code)'].str.replace('.', '')"
   ]
  },
  {
   "cell_type": "code",
   "execution_count": 8,
   "metadata": {},
   "outputs": [
    {
     "data": {
      "text/html": [
       "<div>\n",
       "<style scoped>\n",
       "    .dataframe tbody tr th:only-of-type {\n",
       "        vertical-align: middle;\n",
       "    }\n",
       "\n",
       "    .dataframe tbody tr th {\n",
       "        vertical-align: top;\n",
       "    }\n",
       "\n",
       "    .dataframe thead th {\n",
       "        text-align: right;\n",
       "    }\n",
       "</style>\n",
       "<table border=\"1\" class=\"dataframe\">\n",
       "  <thead>\n",
       "    <tr style=\"text-align: right;\">\n",
       "      <th></th>\n",
       "      <th>Credential</th>\n",
       "      <th>Graduating Cohort</th>\n",
       "      <th>Field of Study (CIP code)</th>\n",
       "      <th>Years After Graduation</th>\n",
       "      <th>Median Income</th>\n",
       "      <th>Cohort Size</th>\n",
       "    </tr>\n",
       "  </thead>\n",
       "  <tbody>\n",
       "    <tr>\n",
       "      <th>0</th>\n",
       "      <td>Certificate</td>\n",
       "      <td>2005</td>\n",
       "      <td>Total (All Graduates)</td>\n",
       "      <td>10</td>\n",
       "      <td>45900</td>\n",
       "      <td>2540</td>\n",
       "    </tr>\n",
       "    <tr>\n",
       "      <th>1</th>\n",
       "      <td>Certificate</td>\n",
       "      <td>2005</td>\n",
       "      <td>Total (All Graduates)</td>\n",
       "      <td>10</td>\n",
       "      <td>58000</td>\n",
       "      <td>30</td>\n",
       "    </tr>\n",
       "    <tr>\n",
       "      <th>2</th>\n",
       "      <td>Certificate</td>\n",
       "      <td>2005</td>\n",
       "      <td>Total (All Graduates)</td>\n",
       "      <td>10</td>\n",
       "      <td>78600</td>\n",
       "      <td>50</td>\n",
       "    </tr>\n",
       "    <tr>\n",
       "      <th>3</th>\n",
       "      <td>Certificate</td>\n",
       "      <td>2005</td>\n",
       "      <td>Total (All Graduates)</td>\n",
       "      <td>10</td>\n",
       "      <td>38000</td>\n",
       "      <td>40</td>\n",
       "    </tr>\n",
       "    <tr>\n",
       "      <th>4</th>\n",
       "      <td>Certificate</td>\n",
       "      <td>2005</td>\n",
       "      <td>Total (All Graduates)</td>\n",
       "      <td>10</td>\n",
       "      <td>28800</td>\n",
       "      <td>150</td>\n",
       "    </tr>\n",
       "  </tbody>\n",
       "</table>\n",
       "</div>"
      ],
      "text/plain": [
       "    Credential  Graduating Cohort Field of Study (CIP code)  \\\n",
       "0  Certificate               2005     Total (All Graduates)   \n",
       "1  Certificate               2005     Total (All Graduates)   \n",
       "2  Certificate               2005     Total (All Graduates)   \n",
       "3  Certificate               2005     Total (All Graduates)   \n",
       "4  Certificate               2005     Total (All Graduates)   \n",
       "\n",
       "   Years After Graduation  Median Income  Cohort Size  \n",
       "0                      10          45900         2540  \n",
       "1                      10          58000           30  \n",
       "2                      10          78600           50  \n",
       "3                      10          38000           40  \n",
       "4                      10          28800          150  "
      ]
     },
     "execution_count": 8,
     "metadata": {},
     "output_type": "execute_result"
    }
   ],
   "source": [
    "TenYears.head()"
   ]
  },
  {
   "cell_type": "code",
   "execution_count": 9,
   "metadata": {},
   "outputs": [
    {
     "data": {
      "text/html": [
       "<div>\n",
       "<style scoped>\n",
       "    .dataframe tbody tr th:only-of-type {\n",
       "        vertical-align: middle;\n",
       "    }\n",
       "\n",
       "    .dataframe tbody tr th {\n",
       "        vertical-align: top;\n",
       "    }\n",
       "\n",
       "    .dataframe thead th {\n",
       "        text-align: right;\n",
       "    }\n",
       "</style>\n",
       "<table border=\"1\" class=\"dataframe\">\n",
       "  <thead>\n",
       "    <tr style=\"text-align: right;\">\n",
       "      <th></th>\n",
       "      <th>Credential</th>\n",
       "      <th>Graduating Cohort</th>\n",
       "      <th>Field of Study (CIP code)</th>\n",
       "      <th>Years After Graduation</th>\n",
       "      <th>Median Income</th>\n",
       "      <th>Cohort Size</th>\n",
       "    </tr>\n",
       "  </thead>\n",
       "  <tbody>\n",
       "    <tr>\n",
       "      <th>0</th>\n",
       "      <td>Certificate</td>\n",
       "      <td>2005</td>\n",
       "      <td>Total (All Graduates)</td>\n",
       "      <td>1</td>\n",
       "      <td>35300.0</td>\n",
       "      <td>3860.0</td>\n",
       "    </tr>\n",
       "    <tr>\n",
       "      <th>1</th>\n",
       "      <td>Certificate</td>\n",
       "      <td>2006</td>\n",
       "      <td>Total (All Graduates)</td>\n",
       "      <td>1</td>\n",
       "      <td>36300.0</td>\n",
       "      <td>4080.0</td>\n",
       "    </tr>\n",
       "    <tr>\n",
       "      <th>2</th>\n",
       "      <td>Certificate</td>\n",
       "      <td>2007</td>\n",
       "      <td>Total (All Graduates)</td>\n",
       "      <td>1</td>\n",
       "      <td>37800.0</td>\n",
       "      <td>3620.0</td>\n",
       "    </tr>\n",
       "    <tr>\n",
       "      <th>3</th>\n",
       "      <td>Certificate</td>\n",
       "      <td>2008</td>\n",
       "      <td>Total (All Graduates)</td>\n",
       "      <td>1</td>\n",
       "      <td>37700.0</td>\n",
       "      <td>3150.0</td>\n",
       "    </tr>\n",
       "    <tr>\n",
       "      <th>4</th>\n",
       "      <td>Certificate</td>\n",
       "      <td>2009</td>\n",
       "      <td>Total (All Graduates)</td>\n",
       "      <td>1</td>\n",
       "      <td>35700.0</td>\n",
       "      <td>3520.0</td>\n",
       "    </tr>\n",
       "  </tbody>\n",
       "</table>\n",
       "</div>"
      ],
      "text/plain": [
       "    Credential  Graduating Cohort Field of Study (CIP code)  \\\n",
       "0  Certificate               2005     Total (All Graduates)   \n",
       "1  Certificate               2006     Total (All Graduates)   \n",
       "2  Certificate               2007     Total (All Graduates)   \n",
       "3  Certificate               2008     Total (All Graduates)   \n",
       "4  Certificate               2009     Total (All Graduates)   \n",
       "\n",
       "   Years After Graduation  Median Income  Cohort Size  \n",
       "0                       1        35300.0       3860.0  \n",
       "1                       1        36300.0       4080.0  \n",
       "2                       1        37800.0       3620.0  \n",
       "3                       1        37700.0       3150.0  \n",
       "4                       1        35700.0       3520.0  "
      ]
     },
     "execution_count": 9,
     "metadata": {},
     "output_type": "execute_result"
    }
   ],
   "source": [
    "OneYear.head()"
   ]
  },
  {
   "cell_type": "code",
   "execution_count": 10,
   "metadata": {},
   "outputs": [
    {
     "ename": "NameError",
     "evalue": "name 'df' is not defined",
     "output_type": "error",
     "traceback": [
      "\u001b[0;31m---------------------------------------------------------------------------\u001b[0m",
      "\u001b[0;31mNameError\u001b[0m                                 Traceback (most recent call last)",
      "\u001b[0;32m<ipython-input-10-dfcc4fe3e277>\u001b[0m in \u001b[0;36m<module>\u001b[0;34m()\u001b[0m\n\u001b[1;32m      1\u001b[0m \u001b[0;31m# dataframe that includes the event (path) that each user went through\u001b[0m\u001b[0;34m\u001b[0m\u001b[0;34m\u001b[0m\u001b[0;34m\u001b[0m\u001b[0m\n\u001b[0;32m----> 2\u001b[0;31m df_events = df.groupby('user')['event'].apply(\n\u001b[0m\u001b[1;32m      3\u001b[0m     lambda x: x.tolist()).reset_index()\n",
      "\u001b[0;31mNameError\u001b[0m: name 'df' is not defined"
     ]
    }
   ],
   "source": [
    "# dataframe that includes the event (path) that each user went through\n",
    "df_events = df.groupby('user')['event'].apply(\n",
    "    lambda x: x.tolist()).reset_index()"
   ]
  },
  {
   "cell_type": "code",
   "execution_count": null,
   "metadata": {},
   "outputs": [],
   "source": [
    "sns.lineplot(data=TenYears[\"Median Income\"])"
   ]
  },
  {
   "cell_type": "code",
   "execution_count": null,
   "metadata": {},
   "outputs": [],
   "source": [
    "for item in TenYears.itertuples():\n",
    "    if item[1] == \"Overall(All Graduates)\":\n",
    "        breakpoint()\n",
    "        "
   ]
  },
  {
   "cell_type": "code",
   "execution_count": null,
   "metadata": {},
   "outputs": [],
   "source": []
  }
 ],
 "metadata": {
  "kernelspec": {
   "display_name": "Python 3",
   "language": "python",
   "name": "python3"
  },
  "language_info": {
   "codemirror_mode": {
    "name": "ipython",
    "version": 3
   },
   "file_extension": ".py",
   "mimetype": "text/x-python",
   "name": "python",
   "nbconvert_exporter": "python",
   "pygments_lexer": "ipython3",
   "version": "3.7.3"
  }
 },
 "nbformat": 4,
 "nbformat_minor": 2
}
